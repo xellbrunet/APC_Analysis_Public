{
 "cells": [
  {
   "cell_type": "code",
   "execution_count": 25,
   "id": "47c14938",
   "metadata": {},
   "outputs": [],
   "source": [
    "# Import modules\n",
    "\n",
    "import pandas as pd\n",
    "import numpy as np\n",
    "import matplotlib.pyplot as plt\n",
    "import string\n",
    "import re\n",
    "\n"
   ]
  },
  {
   "cell_type": "markdown",
   "id": "52a311ec",
   "metadata": {},
   "source": [
    "This script performs the analysis of CRC sequence data from CBioPortal and returns the APC genotype of the samples included, and Figure 1C.\n",
    "\n",
    "The data used was downloaded from CBioPortal as of 1st of September 2023. The combined study contains samples from 13 studies:\n",
    "- Colon Adenocarcinoma (CaseCCC, PNAS 2015)\n",
    "- Colon Cancer (CPTAC-2 Prospective, Cell 2019)\n",
    "- Colorectal Adenocarcinoma (DFCI, Cell Reports 2016)\n",
    "- Colorectal Adenocarcinoma (Genentech, Nature 2012)\n",
    "- Colorectal Adenocarcinoma (TCGA, Firehose Legacy)\n",
    "- Colorectal Adenocarcinoma (TCGA, Nature 2012)\n",
    "- Colorectal Adenocarcinoma (TCGA, PanCancer Atlas)\n",
    "- Colorectal Adenocarcinoma Triplets (MSK, Genome Biol 2014)\n",
    "- Colorectal Cancer (MSK, JCO Precis Oncol 2022)\n",
    "- Colorectal Cancer (MSK, Gastroenterology 2020)\n",
    "- Colon Cancer (Sidra-LUMC AC-ICAM, Nat Med 2023)\n",
    "- Colorectal Cancer (MSK, Cancer Discovery 2022)\n",
    "- GENIE Cohort v15.0-public\n",
    "\n",
    "\n"
   ]
  },
  {
   "cell_type": "code",
   "execution_count": 26,
   "id": "8b3e0d6d",
   "metadata": {},
   "outputs": [
    {
     "name": "stderr",
     "output_type": "stream",
     "text": [
      "<ipython-input-26-f60e3e7f758b>:3: DtypeWarning: Columns (46,47,49,59,69,89,90,103,105,114,117,118,119,120,123,141,150,154,156,157,158,160,161,164,171,197,219,222,224,226,228,231,233,235,237,238,239,240,241,243,244,245,246,248) have mixed types. Specify dtype option on import or set low_memory=False.\n",
      "  CBio_data= pd.read_csv(\"CBio_01_09_2023.csv\",sep='\\t')\n"
     ]
    }
   ],
   "source": [
    "# Import data\n",
    "\n",
    "CBio_data= pd.read_csv(\"CBio_01_09_2023.csv\",sep='\\t')\n",
    "CBio_muts=pd.read_csv(\"mutations_CBio_0923.txt\",sep='\\t')\n",
    "CBio_cna=pd.read_csv(\"cna_CBio_0923.txt\",sep='\\t')\n",
    "CBio_mutsg=pd.read_csv(\"mutations_genie.txt\",sep='\\t')\n",
    "CBio_cnag=pd.read_csv(\"cna_genie.txt\",sep='\\t')"
   ]
  },
  {
   "cell_type": "code",
   "execution_count": 27,
   "id": "0cf10b16",
   "metadata": {},
   "outputs": [],
   "source": [
    "# Define functions to perform analysis\n",
    "\n",
    "def extract_numbers(text):\n",
    "    return [int(match) for match in re.findall(r'\\d+', text)]\n",
    "\n",
    "def find_truncating(n):\n",
    "    new=[]\n",
    "    for m in n:\n",
    "        if '*' in m:\n",
    "            new.append(m)\n",
    "    return new\n",
    "\n",
    "def adapt(muts):\n",
    "    if max(muts)==2 and min(muts)==0:\n",
    "        muts=[0,2]\n",
    "    elif min(muts)==0 and 1 in muts:\n",
    "        muts=muts[0:2]\n",
    "    elif max(muts)==0:\n",
    "        muts=[0,0]\n",
    "    elif 4 in muts:\n",
    "        muts=muts[0:2]\n",
    "    else:\n",
    "        muts=muts[1:3]\n",
    "    return muts\n",
    "\n",
    "def check_search_strings(row, search_strings):\n",
    "    return any(row.str.contains(search_string).any() for search_string in search_strings)"
   ]
  },
  {
   "cell_type": "code",
   "execution_count": null,
   "id": "e0c95526",
   "metadata": {},
   "outputs": [],
   "source": []
  },
  {
   "cell_type": "code",
   "execution_count": 28,
   "id": "8e793457",
   "metadata": {},
   "outputs": [
    {
     "name": "stdout",
     "output_type": "stream",
     "text": [
      "All CRCs, n= 4308\n",
      "APC mutant, n= 3194\n",
      "Truncating mutations upstream SAMP, n= 2562\n"
     ]
    }
   ],
   "source": [
    "## Analyse APC mutation data\n",
    "\n",
    "# Combine mtuation and copy-number data from different studies\n",
    "\n",
    "CBio_muts = pd.concat([CBio_muts, CBio_mutsg], ignore_index=True)\n",
    "CBio_cna = pd.concat([CBio_cna, CBio_cnag], ignore_index=True)\n",
    "\n",
    "# Combine the mtuation and copy-number alteration data\n",
    "\n",
    "CBio_muts['CN']=CBio_cna['APC']\n",
    "CBio_muts['CN']=CBio_muts['CN'].fillna('NP')\n",
    "\n",
    "# Drop duplicate samples across different studies\n",
    "\n",
    "CBio_muts = CBio_muts.drop_duplicates(subset=['SAMPLE_ID'])\n",
    "print('All CRCs, n=', len(CBio_muts))\n",
    "\n",
    "\n",
    "# Filter for APC mutant\n",
    "\n",
    "CBio_muts=CBio_muts[CBio_muts['APC']!='WT']\n",
    "print('APC mutant, n=', len(CBio_muts))\n",
    "\n",
    "\n",
    "\n",
    "# Label deep deletions as deletions \n",
    "\n",
    "replacement_dict = {'-2': '-1'}\n",
    "CBio=CBio_muts.replace(replacement_dict, inplace=True)\n",
    "CBio=CBio_muts.reset_index(drop=True)\n",
    "\n",
    "# Find all mutations in APC and store them as arrays\n",
    "\n",
    "arrays= [string.split() for string in CBio['APC']]\n",
    "CBio['Mutations']=arrays\n",
    "CBio['CN']=CBio['CN'].fillna('NP')\n",
    "\n",
    "# Search for truncating mutations (frameshift and nonsense) and store them separately\n",
    "\n",
    "new=[]\n",
    "for m in CBio['Mutations']:\n",
    "    n=find_truncating(m)\n",
    "    new.append(find_truncating(m))\n",
    "    \n",
    "CBio['Truncating']=new\n",
    "\n",
    "\n",
    "# For all truncating mutations, classify them by APC region and store the codon position of the first two mutations\n",
    "\n",
    "strings = ['fs*' + str(n) for n in range(99, 1,-1)]\n",
    "alls=[]\n",
    "\n",
    "mutations1=np.zeros(len(CBio))\n",
    "mutations2=np.zeros(len(CBio))\n",
    "\n",
    "for i in np.arange(len(CBio)):\n",
    "    mutations=[]\n",
    "    k=0\n",
    "    muts=np.zeros(2)\n",
    "    for m in CBio['Truncating'][i]:\n",
    "        m=extract_numbers(m)\n",
    "        m=np.asarray(m)[0]\n",
    "        if k<2:\n",
    "            muts[k]=m\n",
    "        k+=1\n",
    "        \n",
    "        if m<1258:\n",
    "            region=0\n",
    "        elif m< 1370:\n",
    "            region=1\n",
    "        elif m< 1486:\n",
    "            region=2\n",
    "        elif m< 1575:\n",
    "            region=3\n",
    "        else:\n",
    "            region=4\n",
    "        mutations.append(region)\n",
    "        \n",
    "    mutations=sorted(mutations)\n",
    "    muts=sorted(muts)\n",
    "    mutations1[i]=muts[0]\n",
    "    mutations2[i]=muts[1]\n",
    "    if len(mutations)>2:\n",
    "        mutations=adapt(mutations)\n",
    "    alls.append((mutations))\n",
    "\n",
    "CBio['Genotype']=alls\n",
    "cs=[]\n",
    "for c in np.arange(len(CBio)):\n",
    "    if len(CBio['Genotype'][c])<1:\n",
    "        cs.append(c)\n",
    "    \n",
    "\n",
    "        \n",
    "CBio=CBio.drop(cs)\n",
    "CBio=CBio.reset_index(drop=True)\n",
    "print('Truncating mutations upstream SAMP, n=',len(CBio))\n"
   ]
  },
  {
   "cell_type": "code",
   "execution_count": 29,
   "id": "f10d65f6",
   "metadata": {},
   "outputs": [
    {
     "name": "stdout",
     "output_type": "stream",
     "text": [
      "Samples with no copy-number alterations, n= 1305\n"
     ]
    }
   ],
   "source": [
    "## Analyse copy-number and mutation data data and find the number of 20AARs\n",
    "\n",
    "CBio['CN']=CBio['CN'].astype(str)\n",
    "Genotype=[]\n",
    "aars=[]\n",
    "for c in np.arange(len(CBio)):\n",
    "    \n",
    "    # if there is no copy- number alteration\n",
    "    \n",
    "    if CBio['CN'][c] in ['NP','0','0.0']:\n",
    "        CBio['CN'][c]='0'\n",
    "        \n",
    "        # if there are two mutations\n",
    "        if len(CBio['Genotype'][c])==2:\n",
    "            Genotype.append(np.asarray(CBio['Genotype'][c]))\n",
    "            aars.append(sum(CBio['Genotype'][c]))\n",
    "            \n",
    "        # if there is a single mutation\n",
    "        elif len(CBio['Genotype'][c])==1:\n",
    "            CBio['CN'][c]='SM'\n",
    "\n",
    "            \n",
    "\n",
    "    elif CBio['CN'][c] in ['-1','-2','-1.0','-2.0']:\n",
    "        CN='DelLOH'\n",
    "        CBio['CN'][c]='-1'\n",
    "        Genotype.append(np.asarray(CBio['Genotype'][c]))\n",
    "        aars.append(max(CBio['Genotype'][c]))\n",
    "            \n",
    "    elif CBio['CN'][c] in['1.0', '1']:\n",
    "        CN='CNLOH'\n",
    "        CBio['CN'][c]='1'\n",
    "\n",
    "        if len(CBio['Genotype'][c])==1:\n",
    "            aars.append(2*CBio['Genotype'][c][0])\n",
    "            Genotype.append(np.asarray(CBio['Genotype'][c]))\n",
    "\n",
    "        else:\n",
    "            aars.append(sum(CBio['Genotype'][c]))\n",
    "            Genotype.append(np.asarray(CBio['Genotype'][c]))\n",
    "\n",
    "    else:\n",
    "        nt+=1\n",
    "    \n",
    "# Remove tumours with a single APC mutation\n",
    "CBio = CBio[CBio['CN'] != 'SM']\n",
    "CBio.reset_index(drop=True)\n",
    "\n",
    "# Save APC genotype and number of 20AARs \n",
    "CBio['20AARs']=aars\n",
    "CBio['Genotype']=Genotype\n",
    "\n",
    "print('Samples with no copy-number alterations, n=',len(CBio))\n"
   ]
  },
  {
   "cell_type": "code",
   "execution_count": 38,
   "id": "64a91c05",
   "metadata": {},
   "outputs": [
    {
     "data": {
      "image/png": "[encoded data removed]",
      "text/plain": [
       "<Figure size 432x432 with 1 Axes>"
      ]
     },
     "metadata": {
      "needs_background": "light"
     },
     "output_type": "display_data"
    }
   ],
   "source": [
    "## Plot Figure 1C (CBioPortal Data)\n",
    "\n",
    "\n",
    "# plot double mutants inly\n",
    "mutations2=mutations2[mutations1>0]\n",
    "mutations1=mutations1[mutations1>0]\n",
    "\n",
    "\n",
    "plt.figure(figsize=(6,6))\n",
    "plt.rcParams.update({'font.size': 14})\n",
    "plt.rcParams['font.family'] = 'Liberation Sans'\n",
    "\n",
    "plt.xlim([0,2500])\n",
    "plt.ylim([-500,2500])\n",
    "plt.xlabel('Allele 1', family='Liberation Sans')\n",
    "plt.ylabel('Allele 2',family='Liberation Sans')\n",
    "\n",
    "\n",
    "for i in np.arange(len(mutations1)):\n",
    "    if mutations1[i]>0:\n",
    "        plt.plot(mutations1[i],mutations2[i],'x',color='teal')\n",
    "        \n",
    "plt.plot(mutations1[0],mutations2[0],'x',label='Truncating mutations, CBioPortal')\n",
    "\n",
    "plt.legend()\n",
    "\n",
    "plt.savefig('fig1Ca.png', transparent=True,dpi=300)"
   ]
  },
  {
   "cell_type": "code",
   "execution_count": 39,
   "id": "6b7d2ab8",
   "metadata": {},
   "outputs": [],
   "source": [
    "## Analyse clinical data \n",
    "\n",
    "df = CBio_data\n",
    "\n",
    "# Strings to search for\n",
    "msi = ['MSI', 'MSI-high','MSI-H', 'msi','MSI-High','Instable']\n",
    "pole = ['Hypermutated']\n",
    "\n",
    "# Find sample IDs ohypermutant tumours (msi and pole)\n",
    "ids_mutated= list(df['Sample ID'][df.apply(check_search_strings, axis=1, args=(pole,))]+df['Sample ID'][df.apply(check_search_strings, axis=1, args=(msi,))])\n",
    "\n",
    "CBio_MSS=CBio[~CBio['SAMPLE_ID'].isin(ids_mutated)]\n"
   ]
  },
  {
   "cell_type": "code",
   "execution_count": 40,
   "id": "486cee3e",
   "metadata": {},
   "outputs": [
    {
     "name": "stdout",
     "output_type": "stream",
     "text": [
      "MSS CRCs classified for analysis, n= 1041\n"
     ]
    },
    {
     "name": "stderr",
     "output_type": "stream",
     "text": [
      "<ipython-input-40-b1810ebb1bb9>:9: SettingWithCopyWarning: \n",
      "A value is trying to be set on a copy of a slice from a DataFrame.\n",
      "Try using .loc[row_indexer,col_indexer] = value instead\n",
      "\n",
      "See the caveats in the documentation: https://pandas.pydata.org/pandas-docs/stable/user_guide/indexing.html#returning-a-view-versus-a-copy\n",
      "  CBio_MSS_no_cn['Type'] = CBio_MSS_no_cn['Genotype'].apply(tuple)\n"
     ]
    }
   ],
   "source": [
    "## Save data for analysis of MSS tumours with no copy-number alterations\n",
    "\n",
    "# Remove hypermutated tumours\n",
    "CBio_MSS=CBio[~CBio['SAMPLE_ID'].isin(ids_mutated)]\n",
    "\n",
    "# Keep only tumours without copy-number alterations\n",
    "CBio_MSS_no_cn=CBio_MSS[CBio_MSS['CN']=='0']\n",
    "\n",
    "CBio_MSS_no_cn['Type'] = CBio_MSS_no_cn['Genotype'].apply(tuple)\n",
    "\n",
    "\n",
    "# Generate summary frequency table\n",
    "\n",
    "CBio_MSS_no_cn_ft = CBio_MSS_no_cn.groupby(['Type', 'CN']).size().reset_index(name='Counts')\n",
    "\n",
    "\n",
    "types=[(0, 0), (1, 1), (2, 2), (3, 3), (0, 1), (1, 2), (1, 3), (0, 2), (2, 3), (0, 3)]\n",
    "CBio_MSS_no_cn_ft=CBio_MSS_no_cn_ft[CBio_MSS_no_cn_ft['Type'].isin(types)]\n",
    "\n",
    "print('MSS CRCs classified for analysis, n=', sum(CBio_MSS_no_cn_ft['Counts']))\n",
    "\n",
    "CBio_MSS_no_cn_ft.to_csv('CBio_Data_MSS_no_cn.csv')"
   ]
  },
  {
   "cell_type": "code",
   "execution_count": null,
   "id": "addca028",
   "metadata": {},
   "outputs": [],
   "source": []
  }
 ],
 "metadata": {
  "kernelspec": {
   "display_name": "Python 3 (ipykernel)",
   "language": "python",
   "name": "python3"
  },
  "language_info": {
   "codemirror_mode": {
    "name": "ipython",
    "version": 3
   },
   "file_extension": ".py",
   "mimetype": "text/x-python",
   "name": "python",
   "nbconvert_exporter": "python",
   "pygments_lexer": "ipython3",
   "version": "3.12.3"
  }
 },
 "nbformat": 4,
 "nbformat_minor": 5
}
