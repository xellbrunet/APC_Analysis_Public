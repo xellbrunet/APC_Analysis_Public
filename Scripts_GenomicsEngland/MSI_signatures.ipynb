{
 "cells": [
  {
   "cell_type": "code",
   "execution_count": 8,
   "id": "68ab7cc6",
   "metadata": {},
   "outputs": [
    {
     "name": "stdout",
     "output_type": "stream",
     "text": [
      "MSI samples considerd, n= 364\n"
     ]
    }
   ],
   "source": [
    "# import modules\n",
    "import pandas as pd\n",
    "import numpy as np\n",
    "import matplotlib.pyplot as plt\n",
    "import string\n",
    "import re\n",
    "# import modules\n",
    "import pandas as pd\n",
    "import numpy as np\n",
    "import matplotlib.pyplot as plt\n",
    "import string\n",
    "import re\n",
    "import math\n",
    "import random \n",
    "msi=pd.read_csv('combined_data.csv',sep=',')\n",
    "msi=msi[msi['subtype']=='MSI'].reset_index(drop=True)\n",
    "print('MSI samples considerd, n=',len(msi) )"
   ]
  },
  {
   "cell_type": "code",
   "execution_count": 9,
   "id": "c0a1062c",
   "metadata": {},
   "outputs": [
    {
     "name": "stdout",
     "output_type": "stream",
     "text": [
      "0.967032967032967\n",
      "0.9807692307692307\n",
      "0.36813186813186816\n",
      "0.1043956043956044\n",
      "0.14285714285714285\n",
      "0.10989010989010989\n",
      "0.2967032967032967\n",
      "0.8269230769230769\n",
      "0.32967032967032966\n"
     ]
    }
   ],
   "source": [
    "i=0\n",
    "for k in msi.keys():\n",
    "    if k=='SBS1':\n",
    "        first=i\n",
    "    i+=1\n",
    "    if k=='SBS94':\n",
    "        last=i\n",
    "SBS_signatures=msi.keys()[first:last]\n",
    "samples=len(msi)\n",
    "SBS_signatures_ubiquitous=[]\n",
    "cs=[]\n",
    "for s in SBS_signatures:\n",
    "    condition=msi[s]>0\n",
    "    count=condition.sum()\n",
    "    count=count/len(msi)\n",
    "    if count>0.1:\n",
    "        SBS_signatures_ubiquitous.append(s)\n",
    "        cs.append(count)\n",
    "        print(count)\n",
    "burdens=np.zeros([samples,len(SBS_signatures_ubiquitous)])\n",
    "exposures=np.zeros([samples,len(SBS_signatures_ubiquitous)])\n",
    "\n",
    "for s in np.arange(len(SBS_signatures_ubiquitous)):\n",
    "    burdens[:,s]=msi[SBS_signatures_ubiquitous[s]]\n",
    "for m in np.arange(samples):\n",
    "    exposures[m,:]=burdens[m,:]/sum(burdens[m,:])\n",
    "exposure_sbs_msi=np.mean(exposures,axis=0)\n"
   ]
  },
  {
   "cell_type": "code",
   "execution_count": 10,
   "id": "4388eaff",
   "metadata": {},
   "outputs": [],
   "source": [
    "details={'Signature':SBS_signatures_ubiquitous,'Proportion of samples':cs,'Mean exposure':exposure_sbs_msi/sum(exposure_sbs_msi),'Mean burden':np.mean(burdens,axis=0)}#, 'POLE': pole_mutation}\n",
    "MSI_SBS = pd.DataFrame(details)  "
   ]
  },
  {
   "cell_type": "code",
   "execution_count": 12,
   "id": "54ec9066",
   "metadata": {},
   "outputs": [
    {
     "name": "stdout",
     "output_type": "stream",
     "text": [
      "0.989010989010989\n",
      "1.0\n"
     ]
    }
   ],
   "source": [
    "i=0\n",
    "for k in msi.keys():\n",
    "    if k=='ID1':\n",
    "        first=i\n",
    "    i+=1\n",
    "    if k=='ID18':\n",
    "        last=i\n",
    "ID_signatures=msi.keys()[first:last]\n",
    "cs=[]\n",
    "\n",
    "samples=len(msi)\n",
    "ID_signatures_ubiquitous=[]\n",
    "for s in ID_signatures:\n",
    "    condition=msi[s]>0\n",
    "    count=condition.sum()\n",
    "    count=count/len(msi)\n",
    "    if count>0.1:\n",
    "        ID_signatures_ubiquitous.append(s)\n",
    "        print(count)\n",
    "        cs.append(count)\n",
    "burdens=np.zeros([samples,len(ID_signatures_ubiquitous)])\n",
    "exposures=np.zeros([samples,len(ID_signatures_ubiquitous)])\n",
    "\n",
    "for s in np.arange(len(ID_signatures_ubiquitous)):\n",
    "    burdens[:,s]=msi[ID_signatures_ubiquitous[s]]\n",
    "for m in np.arange(samples):\n",
    "    exposures[m,:]=burdens[m,:]/sum(burdens[m,:])\n",
    "exposure_ids_msi=np.mean(exposures,axis=0)\n",
    "\n"
   ]
  },
  {
   "cell_type": "code",
   "execution_count": 13,
   "id": "a65d910f",
   "metadata": {},
   "outputs": [],
   "source": [
    "details={'Signature':ID_signatures_ubiquitous,'Proportion of samples':cs,'Mean exposure':exposure_ids_msi/sum(exposure_ids_msi),'Mean burden':np.mean(burdens,axis=0)}#, 'POLE': pole_mutation}\n",
    "MSI_IDS = pd.DataFrame(details)  "
   ]
  },
  {
   "cell_type": "code",
   "execution_count": null,
   "id": "7796310d",
   "metadata": {},
   "outputs": [],
   "source": []
  }
 ],
 "metadata": {
  "kernelspec": {
   "display_name": "Python 3 (ipykernel)",
   "language": "python",
   "name": "python3"
  },
  "language_info": {
   "codemirror_mode": {
    "name": "ipython",
    "version": 3
   },
   "file_extension": ".py",
   "mimetype": "text/x-python",
   "name": "python",
   "nbconvert_exporter": "python",
   "pygments_lexer": "ipython3",
   "version": "3.11.2"
  }
 },
 "nbformat": 4,
 "nbformat_minor": 5
}
